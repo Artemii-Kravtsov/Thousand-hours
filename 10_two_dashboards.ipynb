{
 "cells": [
  {
   "cell_type": "markdown",
   "metadata": {},
   "source": [
    "# О проекте\n",
    "<a id='target100'></a>"
   ]
  },
  {
   "cell_type": "markdown",
   "metadata": {},
   "source": [
    "Сервис собирает публикации на всевозможные темы (блоги, статьи, галереи и т.д.) как из открытых источников, так и созданные на собственной платформе. Для каждого пользователя сервис формирует на основе рекомендательного алгоритма ленту публикаций.\n",
    "\n",
    "Карточка - это обложка одной публикации. Кликая на неё, пользователь переходит по ссылке на материал. Каждую карточку определяют её тема и источник.\n",
    "\n",
    "Возникло желание автоматизировать рутинную задачу. Каждую неделю менеджеры продукта нуждаются в ответах на следующие вопросы:\n",
    "- Сколько взаимодействий пользователей с карточками происходит в системе с разбивкой по темам карточек?\n",
    "- Как много карточек генерируют источники с разными темами?\n",
    "- Как соотносятся темы карточек и темы источников?\n",
    "\n",
    "Ответы на эти вопросы менеджеры хотят получать с помощью дашборда. С ними согласован макет:\n",
    "![image.png](https://d.radikal.ru/d25/2103/f4/b750bdd8cd43.png)\n",
    "\n",
    "В проекте требуется подготовить код, который\n",
    "1. выгружает сырые данные из базы данных,\n",
    "2. укладывает их в одну или несколько агрегирующих таблиц (если необходимо),\n",
    "3. строит с их помощью графики\n",
    "\n",
    "На основе этого кода дата-инженеры позднее напишут пайплайн. Второй и третий пункт можно выполнить как в Tableau Public, так и в том же скрипте, что делает выгрузку, с помощью библиотек dash и plotly. Попробуем оба способа. Чтобы отобразить дашборды (показать результат), в первом случае опубликуем его на сервере Tableau Public (и поделимся ссылкой), а во втором выведем в этой самой тетрадке, подключив модуль JupyterDash. \n",
    "\n",
    "\n",
    "### План:\n",
    "\n",
    "1. [Получение данных и ознакомление с ними](#target1) \n",
    "2. [Дашборд в dash](#target2) \n",
    "3. [Дашборд в Tableau](#target3) \n",
    "8. [Резюме](#target99)"
   ]
  },
  {
   "cell_type": "markdown",
   "metadata": {},
   "source": [
    "<a id='target1'></a>\n",
    "## Получение данных и ознакомление с ними"
   ]
  },
  {
   "cell_type": "code",
   "execution_count": 1,
   "metadata": {},
   "outputs": [],
   "source": [
    "import dash\n",
    "import dash_core_components as dcc\n",
    "import dash_html_components as html\n",
    "import pandas as pd\n",
    "import numpy as np\n",
    "import re\n",
    "import datetime\n",
    "import plotly\n",
    "import requests\n",
    "from plotly import graph_objs as go\n",
    "from plotly import figure_factory as ff\n",
    "from dash.dependencies import Input, Output\n",
    "from IPython.display import display\n",
    "my_module_url = 'https://raw.githubusercontent.com/Artemii-Kravtsov/files/main/my_module.py'\n",
    "url_dash = 'https://raw.githubusercontent.com/Artemii-Kravtsov/files/main/dash_visits.csv'\n",
    "url_tableau = 'https://public.tableau.com/views/item_topics_fixedsize/sheet4'\n",
    "url_heroku = 'https://sources-and-topics.herokuapp.com/'\n",
    "exec(requests.get(my_module_url).text)\n",
    "try:\n",
    "    from jupyter_dash import JupyterDash\n",
    "except:\n",
    "    !pip install jupyter-dash\n",
    "    from jupyter_dash import JupyterDash\n",
    "try:\n",
    "    from sqlalchemy import create_engine\n",
    "except:\n",
    "    !pip install sqlalchemy psycopg2\n",
    "    from sqlalchemy import create_engine\n",
    "\n",
    "load_from_db = False\n",
    "db_config = {'user': 'user_name',\n",
    "             'pwd': 'password', \n",
    "             'host': 'server.mdb.yandexcloud.net',\n",
    "             'port': 6432, \n",
    "             'db': 'data-analyst-project-db'}"
   ]
  },
  {
   "cell_type": "code",
   "execution_count": 2,
   "metadata": {},
   "outputs": [
    {
     "data": {
      "text/html": [
       "<div>\n",
       "<style scoped>\n",
       "    .dataframe tbody tr th:only-of-type {\n",
       "        vertical-align: middle;\n",
       "    }\n",
       "\n",
       "    .dataframe tbody tr th {\n",
       "        vertical-align: top;\n",
       "    }\n",
       "\n",
       "    .dataframe thead th {\n",
       "        text-align: right;\n",
       "    }\n",
       "</style>\n",
       "<table border=\"1\" class=\"dataframe\">\n",
       "  <thead>\n",
       "    <tr style=\"text-align: right;\">\n",
       "      <th></th>\n",
       "      <th>record_id</th>\n",
       "      <th>item_topic</th>\n",
       "      <th>source_topic</th>\n",
       "      <th>age_segment</th>\n",
       "      <th>dt</th>\n",
       "      <th>visits</th>\n",
       "    </tr>\n",
       "  </thead>\n",
       "  <tbody>\n",
       "    <tr>\n",
       "      <th>0</th>\n",
       "      <td>1040597</td>\n",
       "      <td>Деньги</td>\n",
       "      <td>Авто</td>\n",
       "      <td>18-25</td>\n",
       "      <td>2019-09-24 18:32:00</td>\n",
       "      <td>3</td>\n",
       "    </tr>\n",
       "    <tr>\n",
       "      <th>1</th>\n",
       "      <td>1040598</td>\n",
       "      <td>Деньги</td>\n",
       "      <td>Авто</td>\n",
       "      <td>18-25</td>\n",
       "      <td>2019-09-24 18:35:00</td>\n",
       "      <td>1</td>\n",
       "    </tr>\n",
       "    <tr>\n",
       "      <th>2</th>\n",
       "      <td>1040599</td>\n",
       "      <td>Деньги</td>\n",
       "      <td>Авто</td>\n",
       "      <td>18-25</td>\n",
       "      <td>2019-09-24 18:54:00</td>\n",
       "      <td>4</td>\n",
       "    </tr>\n",
       "    <tr>\n",
       "      <th>3</th>\n",
       "      <td>1040600</td>\n",
       "      <td>Деньги</td>\n",
       "      <td>Авто</td>\n",
       "      <td>18-25</td>\n",
       "      <td>2019-09-24 18:55:00</td>\n",
       "      <td>17</td>\n",
       "    </tr>\n",
       "    <tr>\n",
       "      <th>4</th>\n",
       "      <td>1040601</td>\n",
       "      <td>Деньги</td>\n",
       "      <td>Авто</td>\n",
       "      <td>18-25</td>\n",
       "      <td>2019-09-24 18:56:00</td>\n",
       "      <td>27</td>\n",
       "    </tr>\n",
       "  </tbody>\n",
       "</table>\n",
       "</div>"
      ],
      "text/plain": [
       "   record_id item_topic source_topic age_segment                  dt  visits\n",
       "0    1040597     Деньги         Авто       18-25 2019-09-24 18:32:00       3\n",
       "1    1040598     Деньги         Авто       18-25 2019-09-24 18:35:00       1\n",
       "2    1040599     Деньги         Авто       18-25 2019-09-24 18:54:00       4\n",
       "3    1040600     Деньги         Авто       18-25 2019-09-24 18:55:00      17\n",
       "4    1040601     Деньги         Авто       18-25 2019-09-24 18:56:00      27"
      ]
     },
     "metadata": {},
     "output_type": "display_data"
    }
   ],
   "source": [
    "if load_from_db:\n",
    "    engine = create_engine('postgresql://{}:{}@{}:{}/{}'.format(db_config['user'],\n",
    "                                                                db_config['pwd'],\n",
    "                                                                db_config['host'],\n",
    "                                                                db_config['port'],\n",
    "                                                                db_config['db'])) \n",
    "    dash_visits = pd.io.sql.read_sql('SELECT * FROM dash_visits', con = engine) \n",
    "    dash_visits.to_csv('dash_visits.csv')\n",
    "else:\n",
    "    dash_visits = pd.read_csv(url_dash, index_col = 0)\n",
    "    \n",
    "dash_visits.dt = dash_visits.dt.astype('datetime64[m]')\n",
    "display(dash_visits.head())"
   ]
  },
  {
   "cell_type": "code",
   "execution_count": 3,
   "metadata": {},
   "outputs": [
    {
     "name": "stdout",
     "output_type": "stream",
     "text": [
      "Длительность наблюдений: 0 days 00:32:00\n",
      "Уникальных значений в поле 'dt': 17\n"
     ]
    }
   ],
   "source": [
    "print('Длительность наблюдений:', dash_visits.dt.max() - dash_visits.dt.min())\n",
    "print(\"Уникальных значений в поле 'dt':\", dash_visits.dt.nunique())"
   ]
  },
  {
   "cell_type": "markdown",
   "metadata": {},
   "source": [
    "Временной диапазон в 32 минуты, но всего 17 уникальных значений в поле, отображающем время. Это значит, что на временном ряде есть минуты, которым соответствует ноль посещений. Но если аггрегировать таблицу с помощью группировки `groupby` по времени, то на графике будет всего 17 точек и ни одной точки со значением 0. Чтобы исправить это, нужно сджойнить аггрегированную таблицу с таким Series, в котором перечислены все 32 значения. Создадим этот объект Series."
   ]
  },
  {
   "cell_type": "code",
   "execution_count": 4,
   "metadata": {},
   "outputs": [],
   "source": [
    "minutes_array_full = []\n",
    "time = dash_visits.dt.min()\n",
    "while time < dash_visits.dt.max():\n",
    "    time += pd.Timedelta(1, 'm')\n",
    "    minutes_array_full.append(time)\n",
    "minutes_array_full = (pd.Series(index = minutes_array_full, dtype = 'float64')\n",
    "                 .reset_index().rename({'index': 'dt', 0: 'visits'}, axis = 1))"
   ]
  },
  {
   "cell_type": "code",
   "execution_count": 5,
   "metadata": {},
   "outputs": [
    {
     "name": "stdout",
     "output_type": "stream",
     "text": [
      "Значения в поле 'record_id' уникальны\n"
     ]
    }
   ],
   "source": [
    "if dash_visits.record_id.is_unique:\n",
    "    print(\"Значения в поле 'record_id' уникальны\")\n",
    "else:\n",
    "    print(\"Значения в поле 'record_id' неуникальны\")"
   ]
  },
  {
   "cell_type": "code",
   "execution_count": 6,
   "metadata": {},
   "outputs": [
    {
     "data": {
      "text/plain": [
       "count    30745.000000\n",
       "mean        10.089673\n",
       "std         19.727601\n",
       "min          1.000000\n",
       "25%          1.000000\n",
       "50%          3.000000\n",
       "75%         10.000000\n",
       "max        371.000000\n",
       "Name: visits, dtype: float64"
      ]
     },
     "execution_count": 6,
     "metadata": {},
     "output_type": "execute_result"
    }
   ],
   "source": [
    "dash_visits.visits.describe()"
   ]
  },
  {
   "cell_type": "markdown",
   "metadata": {},
   "source": [
    "В поле 'visits' нет нулей и нет неправдоподобно высоких значений."
   ]
  },
  {
   "cell_type": "code",
   "execution_count": 7,
   "metadata": {},
   "outputs": [
    {
     "name": "stdout",
     "output_type": "stream",
     "text": [
      "Уникальные значения в поле \"item_topic\":\n",
      "['Деньги', 'Дети', 'Женская психология', 'Женщины', 'Здоровье', 'Знаменитости', 'Интересные факты', 'Искусство', 'История', 'Красота', 'Культура', 'Наука', 'Общество', 'Отношения', 'Подборки', 'Полезные советы', 'Психология', 'Путешествия', 'Рассказы', 'Россия', 'Семья', 'Скандалы', 'Туризм', 'Шоу', 'Юмор']\n",
      "\n",
      "Уникальные значения в поле \"source_topic\":\n",
      "['Авто', 'Деньги', 'Дети', 'Еда', 'Здоровье', 'Знаменитости', 'Интерьеры', 'Искусство', 'История', 'Кино', 'Музыка', 'Одежда', 'Полезные советы', 'Политика', 'Психология', 'Путешествия', 'Ремонт', 'Россия', 'Сад и дача', 'Сделай сам', 'Семейные отношения', 'Семья', 'Спорт', 'Строительство', 'Технологии', 'Финансы']\n",
      "\n",
      "Уникальные значения в поле \"age_segment\":\n",
      "['18-25', '26-30', '31-35', '36-40', '41-45', '45+']\n",
      "\n"
     ]
    }
   ],
   "source": [
    "for col in ['item_topic', 'source_topic', 'age_segment']:\n",
    "    print(f'Уникальные значения в поле \"{col}\":')\n",
    "    print(dash_visits[col].unique().tolist())\n",
    "    dash_visits[col] = dash_visits[col].astype('category')\n",
    "    print()"
   ]
  },
  {
   "cell_type": "markdown",
   "metadata": {},
   "source": [
    "Три поля с данными категориального типа. Всё в порядке. "
   ]
  },
  {
   "cell_type": "code",
   "execution_count": 8,
   "metadata": {},
   "outputs": [
    {
     "name": "stdout",
     "output_type": "stream",
     "text": [
      "<class 'pandas.core.frame.DataFrame'>\n",
      "Int64Index: 30745 entries, 0 to 30744\n",
      "Data columns (total 6 columns):\n",
      " #   Column        Non-Null Count  Dtype         \n",
      "---  ------        --------------  -----         \n",
      " 0   record_id     30745 non-null  int64         \n",
      " 1   item_topic    30745 non-null  category      \n",
      " 2   source_topic  30745 non-null  category      \n",
      " 3   age_segment   30745 non-null  category      \n",
      " 4   dt            30745 non-null  datetime64[ns]\n",
      " 5   visits        30745 non-null  int64         \n",
      "dtypes: category(3), datetime64[ns](1), int64(2)\n",
      "memory usage: 1.0 MB\n"
     ]
    }
   ],
   "source": [
    "dash_visits.info()"
   ]
  },
  {
   "cell_type": "markdown",
   "metadata": {},
   "source": [
    "Пропущенных значений нет."
   ]
  },
  {
   "cell_type": "markdown",
   "metadata": {},
   "source": [
    "<a id='target2'></a>\n",
    "## Дашборд в dash\n",
    "[// вернуться к началу](#target100) "
   ]
  },
  {
   "cell_type": "code",
   "execution_count": 9,
   "metadata": {
    "scrolled": false
   },
   "outputs": [
    {
     "data": {
      "text/html": [
       "\n",
       "        <iframe\n",
       "            width=\"100%\"\n",
       "            height=\"650\"\n",
       "            src=\"http://127.0.0.1:8050/\"\n",
       "            frameborder=\"0\"\n",
       "            allowfullscreen\n",
       "        ></iframe>\n",
       "        "
      ],
      "text/plain": [
       "<IPython.lib.display.IFrame at 0x104e2c10>"
      ]
     },
     "metadata": {},
     "output_type": "display_data"
    }
   ],
   "source": [
    "# значения фильтров по умолчанию\n",
    "topics_list = dash_visits.item_topic.unique().tolist()\n",
    "age_groups_list = dash_visits.age_segment.unique().tolist()\n",
    "min_input = ':'.join(str(dash_visits.dt.min()).split(' ')[1].split(':')[:2])\n",
    "max_input = ':'.join(str(dash_visits.dt.max()).split(' ')[1].split(':')[:2])\n",
    "min_max_input = ' - '.join([min_input, max_input])\n",
    "\n",
    "# верстка дашборда\n",
    "app = JupyterDash(__name__, external_stylesheets = ['https://codepen.io/chriddyp/pen/bWLwgP.css'])\n",
    "app.layout = html.Div([\n",
    "    html.Br(), html.Br(), \n",
    "    html.Div([\n",
    "        html.Div([html.H4(children = 'Темы и источники показанных карточек', \n",
    "                     style = {'position': 'absolute', 'top': '1.6%', 'left': '1%'})], className = 'six columns'),\n",
    "        html.Div([html.Label('Дата:'),\n",
    "                  dcc.DatePickerRange(\n",
    "                     start_date = dash_visits.dt.min(), end_date = dash_visits.dt.max(), \n",
    "                     display_format = 'DD MMM YYYY', id = 'dt_selector')], \n",
    "                     className = 'four columns', style = {'position': 'absolute', 'top': '4.6%', 'left': '48.3%'}),\n",
    "        html.Div([html.Label('Время:'),\n",
    "                  dcc.Input(\n",
    "                     type = 'text', placeholder = min_max_input, value = min_max_input, \n",
    "                     id = 'time_selector', style = {'width': '250%'})], \n",
    "                     className = 'one column', style = {'position': 'absolute', 'top': '4.6%', 'left': '80%'})\n",
    "             ], className = 'row'), \n",
    "    html.Br(), html.Br(),\n",
    " \n",
    "\n",
    "    html.Div([\n",
    "        html.Div([html.Br()], className = 'three columns'),\n",
    "        html.Div([html.Label('Темы карточек:'),\n",
    "                  dcc.Checklist(\n",
    "                     id = 'include_all_button', labelStyle = {'display': 'block'},\n",
    "                     options = [{'label': ' Показать все темы', 'value': 'All'}],\n",
    "                     value = ['All'], style = {'padding-left': '35%'}),\n",
    "                  dcc.Dropdown(\n",
    "                     options = [{'label': x, 'value': x} for x in topics_list],\n",
    "                     value = topics_list,\n",
    "                     multi = True, optionHeight = 15,\n",
    "                     id = 'topics_selector')], className = 'six columns'),\n",
    "        html.Div([html.Label('Возрастные категории:', style = {'padding-top': '2%'}),\n",
    "                  dcc.Dropdown(\n",
    "                     options = [{'label': x, 'value': x} for x in age_groups_list],\n",
    "                     value = age_groups_list,\n",
    "                     multi = True, optionHeight = 15,\n",
    "                     id = 'ages_selector', style = {'margin-top': '10%'})], className = 'three columns')\n",
    "             ], className = 'row'),\n",
    "    html.Br(), html.Br(),\n",
    "    \n",
    "    html.Div([\n",
    "        html.Div([html.H6(children = 'просмотры карточек:', style = {'text-align': 'center'}),\n",
    "                  dcc.Graph(id = 'abs', config = my_plotly_config(display_bar = False))], className = 'four columns'),\n",
    "        html.Div([html.H6(children = 'cоотношение просмотров:', style = {'text-align': 'center'}),\n",
    "                  dcc.Graph(id = 'rel', config = my_plotly_config(display_bar = False))], className = 'four columns'),\n",
    "        html.Div([html.H6(children = 'соотношение по источникам:', style = {'text-align': 'center'}),\n",
    "                  dcc.Graph(id = 'pie', config = my_plotly_config(display_bar = False))], className = 'four columns')\n",
    "             ], className = 'row'),\n",
    "    \n",
    "    html.Br(),\n",
    "    html.Div([html.H6(children = 'просмотры карточек (по темам и источникам):', style = {'text-align': 'center'}),\n",
    "              dcc.Graph(id = 'heat', config = my_plotly_config(display_bar = False))])         \n",
    "])\n",
    "\n",
    "# подключение элементов управления к функции, рисующей графики\n",
    "@app.callback([Output('include_all_button', 'value'), \n",
    "               Output('topics_selector', 'value'), \n",
    "               Output('abs', 'figure'),\n",
    "               Output('rel', 'figure'),\n",
    "               Output('pie', 'figure'),\n",
    "               Output('heat', 'figure')],\n",
    "              [Input('dt_selector', 'start_date'),\n",
    "               Input('dt_selector', 'end_date'),\n",
    "               Input('time_selector', 'value'),\n",
    "               Input('topics_selector', 'value'),\n",
    "               Input('ages_selector', 'value'),\n",
    "               Input('include_all_button', 'value')])\n",
    "def update_dash(start_date, end_date, time_range, topics, age_groups, button):\n",
    "    # проверка того, корректно ли введено время, получение полноценных start_date и end_date\n",
    "    if not re.fullmatch(r'([0-1]\\d|2[0-3]):[0-5]\\d - ([0-1]\\d|2[0-3]):[0-5]\\d', time_range):\n",
    "        raise dash.exceptions.PreventUpdate\n",
    "    mn, mx = time_range.split(' - ')\n",
    "    start_date_complete = datetime.datetime.strptime(' '.join([str(start_date).split('T')[0], mn]), '%Y-%m-%d %H:%M')\n",
    "    end_date_complete = datetime.datetime.strptime(' '.join([str(end_date).split('T')[0], mx]), '%Y-%m-%d %H:%M')\n",
    "    \n",
    "    # синхронизация кнопки \"Показать все темы\" с выпадающим списком тем\n",
    "    ctx = dash.callback_context\n",
    "    input_id = ctx.triggered[0]['prop_id'].split('.')[0]\n",
    "    if input_id == 'topics_selector':\n",
    "        button = [['All'] if len(topics) == len(topics_list) else []][0]\n",
    "    elif input_id == 'include_all_button':\n",
    "        topics = [topics_list if button else []][0]\n",
    "    \n",
    "    # срез данных на основе применённых фильтров\n",
    "    df = dash_visits[ (dash_visits.dt >= start_date_complete) & (dash_visits.dt <= end_date_complete) \n",
    "                       & dash_visits.age_segment.isin(age_groups) & dash_visits.item_topic.isin(topics)]\n",
    "    minutes_array = minutes_array_full[ (minutes_array_full.dt <= end_date_complete) &\n",
    "                                        (minutes_array_full.dt >= start_date_complete) ]\n",
    "    df_abs = df.groupby(['dt', 'item_topic'])['visits'].sum()\n",
    "    df_rel = df_abs.div(df.groupby(['dt'])['visits'].sum()).reset_index()\n",
    "    df_abs = df_abs.reset_index()\n",
    "\n",
    "    # 1 и 2 графики\n",
    "    stack_area_abs = []\n",
    "    stack_area_rel = []\n",
    "    topics_order = df.groupby('item_topic')['visits'].sum().sort_values(ascending = False).index\n",
    "    for topic in topics_order:\n",
    "        abs_vis = df_abs[ df_abs.item_topic == topic ]\n",
    "        abs_vis = minutes_array.merge(abs_vis.iloc[:, [0, 2]], on = 'dt', \n",
    "                                      how = 'outer').set_index('dt').iloc[:, 1].fillna(0)\n",
    "        rel_vis = df_rel[ df_rel.item_topic == topic ]\n",
    "        rel_vis = minutes_array.merge(rel_vis.iloc[:, [0, 2]], on = 'dt', \n",
    "                                      how = 'outer').set_index('dt').iloc[:, 1].fillna(0)\n",
    "        stack_area_abs.append(go.Scatter(x = abs_vis.index, y = abs_vis.values, stackgroup = 'one', \n",
    "                                mode = 'lines', text = ['<br>'.join([date.strftime('%d %B'), date.strftime('%H:%M'), \n",
    "                                                 f'<br>Тема: <b>{topic}</b>', f'Просмотров: <b>{int(vis)}</b>']) \n",
    "                                                 for date, vis in abs_vis.items()], \n",
    "                                hovertemplate = '%{text}<extra></extra>'))\n",
    "        stack_area_rel.append(go.Scatter(x = rel_vis.index, y = rel_vis.values, stackgroup = 'one', \n",
    "                                mode = 'lines', text = ['<br>'.join([date.strftime('%d %B'), date.strftime('%H:%M'), \n",
    "                                                 f'<br>Тема: <b>{topic}</b>', \n",
    "                                                 'Доля просмотров: <b>{:.2%}</b>'.format(vis)]) \n",
    "                                                 for date, vis in rel_vis.items()], \n",
    "                                hovertemplate = '%{text}<extra></extra>'))\n",
    "    layout_abs = dict(height = 300, showlegend = False, margin = dict(l = 0, r = 0, t = 30, b = 0), xaxis = dict(\n",
    "                      tickangle = -90, tickmode = 'array', tickvals = abs_vis[abs_vis != 0].index, \n",
    "                      ticktext = [date.strftime('%H:%M') for date in abs_vis[abs_vis != 0].index], \n",
    "                      tickfont = {'size': 8}))\n",
    "    layout_rel = layout_abs.copy()\n",
    "    layout_rel.update({'yaxis': dict(range = (0, 1), tickformat = '%', tickmode = 'array', \n",
    "                                     tickvals = np.arange(0.2, 1.1, 0.2))})\n",
    "    ab = go.Figure(data = stack_area_abs, layout = layout_abs)\n",
    "    rel = go.Figure(data = stack_area_rel, layout = layout_rel)\n",
    "\n",
    "    # круговая диаграмма\n",
    "    pie_abs = df.groupby('source_topic')['visits'].sum().sort_values(ascending = False)\n",
    "    pie_data = go.Pie(labels = pie_abs.index, values = pie_abs.values, textposition = 'inside', opacity = 0.9, hole = 0.4, \n",
    "                 hovertemplate = 'Источник:   <b>%{label}</b><br>Доля просмотров: <b>%{percent}</b><br>Просмотров: '\n",
    "                 '<b>%{value}</b><extra></extra>', textfont = {'size': 12}, hoverlabel = {'align': 'right'})\n",
    "    layout_pie = dict(height = 300, showlegend = False, margin = dict(l = 0, r = 0, t = 0, b = 0))\n",
    "    pie = go.Figure(data = pie_data, layout = layout_pie)\n",
    "\n",
    "    # тепловая таблица\n",
    "    pivot = df.pivot_table(index = 'item_topic', columns = 'source_topic', aggfunc = 'sum', \n",
    "                           values = 'visits').fillna(0).applymap(int)\n",
    "    if pivot.shape[0] != 0:\n",
    "        topic_part = pivot.div(pivot.sum(axis = 1), axis = 0)\n",
    "        heat = ff.create_annotated_heatmap(z = pivot.values.tolist(), x = pivot.columns.tolist(),\n",
    "                                           y = pivot.index.tolist(), colorscale = 'Greys', showscale = False, \n",
    "                                           font_colors = ['black', 'white'], text = topic_part.values.tolist(),\n",
    "                                           hovertemplate = 'Тема: <b>%{y}</b><br>Источник: <b>%{x}</b><br>Просмотров: '\n",
    "                                                     '<b>%{z}</b><extra></extra><br><br>Доля от всех просмотров темы: '\n",
    "                                                     '<b>%{text:.2%}</b>')\n",
    "        for i in range(len(heat.layout.annotations)):\n",
    "            heat.layout.annotations[i].font.size = 10\n",
    "        heat.layout.height = 28 * len(pivot.index)\n",
    "    else: \n",
    "        pivot = dash_visits.pivot_table(index = 'item_topic', columns = 'source_topic', values = 'record_id', \n",
    "                                aggfunc = 'count').applymap(lambda x: 0)\n",
    "        heat = ff.create_annotated_heatmap(z = pivot.values.tolist(), x = pivot.columns.tolist(), y = pivot.index.tolist(), \n",
    "                          colorscale = 'Greys', showscale = False, hoverinfo = 'skip')\n",
    "        heat.layout.height = 28 * len(pivot.index)\n",
    "\n",
    "    return button, topics, ab, rel, pie, heat\n",
    "\n",
    "if __name__ == '__main__':\n",
    "    app.run_server(mode = 'inline')"
   ]
  },
  {
   "cell_type": "code",
   "execution_count": 10,
   "metadata": {
    "scrolled": false
   },
   "outputs": [
    {
     "name": "stdout",
     "output_type": "stream",
     "text": [
      "Посмотреть на сайте Heroku: \n",
      " https://sources-and-topics.herokuapp.com/\n"
     ]
    }
   ],
   "source": [
    "print('Посмотреть на сайте Heroku: \\n', url_heroku)"
   ]
  },
  {
   "cell_type": "markdown",
   "metadata": {},
   "source": [
    "<a id='target3'></a> \n",
    "## Дашборд в Tableau\n",
    "[// вернуться к началу](#target100) "
   ]
  },
  {
   "cell_type": "markdown",
   "metadata": {},
   "source": [
    "Для отображения в тетрадке следовало выбрать дашборд с автоматической настройкой размера. У этой опции есть минус - на маленьких экранах графики становятся неразборчивыми, иногда сползает верстка. Поэтому если дашборд, помещённый ниже, плохо отображается, можно перейти по ссылке под ним на сайт Tableau Public. По ссылке будет дашборд с фиксированным размером, который должен корректно отображаться на любых экранах."
   ]
  },
  {
   "cell_type": "code",
   "execution_count": 11,
   "metadata": {
    "scrolled": false
   },
   "outputs": [
    {
     "data": {
      "text/html": [
       "<div class='tableauPlaceholder' id='viz1616248004448' style='position: relative'><noscript><a href='#'><img alt=' ' src='https:&#47;&#47;public.tableau.com&#47;static&#47;images&#47;it&#47;item_topics_automatic&#47;sheet4&#47;1_rss.png' style='border: none' /></a></noscript><object class='tableauViz'  style='display:none;'><param name='host_url' value='https%3A%2F%2Fpublic.tableau.com%2F' /> <param name='embed_code_version' value='3' /> <param name='site_root' value='' /><param name='name' value='item_topics_automatic&#47;sheet4' /><param name='tabs' value='no' /><param name='toolbar' value='yes' /><param name='static_image' value='https:&#47;&#47;public.tableau.com&#47;static&#47;images&#47;it&#47;item_topics_automatic&#47;sheet4&#47;1.png' /> <param name='animate_transition' value='yes' /><param name='display_static_image' value='yes' /><param name='display_spinner' value='yes' /><param name='display_overlay' value='yes' /><param name='display_count' value='yes' /><param name='language' value='en' /><param name='filter' value='publish=yes' /></object></div>                <script type='text/javascript'>                    var divElement = document.getElementById('viz1616248004448');                    var vizElement = divElement.getElementsByTagName('object')[0];                    vizElement.style.width='100%';vizElement.style.height=(divElement.offsetWidth*0.75)+'px';                    var scriptElement = document.createElement('script');                    scriptElement.src = 'https://public.tableau.com/javascripts/api/viz_v1.js';                    vizElement.parentNode.insertBefore(scriptElement, vizElement);                </script>"
      ],
      "text/plain": [
       "<IPython.core.display.HTML object>"
      ]
     },
     "metadata": {},
     "output_type": "display_data"
    }
   ],
   "source": [
    "%%HTML\n",
    "<div class='tableauPlaceholder' id='viz1616248004448' style='position: relative'><noscript><a href='#'><img alt=' ' src='https:&#47;&#47;public.tableau.com&#47;static&#47;images&#47;it&#47;item_topics_automatic&#47;sheet4&#47;1_rss.png' style='border: none' /></a></noscript><object class='tableauViz'  style='display:none;'><param name='host_url' value='https%3A%2F%2Fpublic.tableau.com%2F' /> <param name='embed_code_version' value='3' /> <param name='site_root' value='' /><param name='name' value='item_topics_automatic&#47;sheet4' /><param name='tabs' value='no' /><param name='toolbar' value='yes' /><param name='static_image' value='https:&#47;&#47;public.tableau.com&#47;static&#47;images&#47;it&#47;item_topics_automatic&#47;sheet4&#47;1.png' /> <param name='animate_transition' value='yes' /><param name='display_static_image' value='yes' /><param name='display_spinner' value='yes' /><param name='display_overlay' value='yes' /><param name='display_count' value='yes' /><param name='language' value='en' /><param name='filter' value='publish=yes' /></object></div>                <script type='text/javascript'>                    var divElement = document.getElementById('viz1616248004448');                    var vizElement = divElement.getElementsByTagName('object')[0];                    vizElement.style.width='100%';vizElement.style.height=(divElement.offsetWidth*0.75)+'px';                    var scriptElement = document.createElement('script');                    scriptElement.src = 'https://public.tableau.com/javascripts/api/viz_v1.js';                    vizElement.parentNode.insertBefore(scriptElement, vizElement);                </script>"
   ]
  },
  {
   "cell_type": "code",
   "execution_count": 12,
   "metadata": {},
   "outputs": [
    {
     "name": "stdout",
     "output_type": "stream",
     "text": [
      "Посмотреть на сайте Tableau Public: \n",
      " https://public.tableau.com/views/item_topics_fixedsize/sheet4\n"
     ]
    }
   ],
   "source": [
    "print('Посмотреть на сайте Tableau Public: \\n', url_tableau)"
   ]
  },
  {
   "cell_type": "markdown",
   "metadata": {},
   "source": [
    "<a id='target99'></a>\n",
    "## Резюме\n",
    "[// вернуться к началу](#target100) "
   ]
  },
  {
   "cell_type": "markdown",
   "metadata": {},
   "source": [
    "- Ссылка на дашборд, построенный в dash: https://sources-and-topics.herokuapp.com/\n",
    "- Cсылка на дашборд, построенный в Tableau: https://public.tableau.com/views/item_topics_fixedsize/sheet4\n",
    "- Одна запись в датасете - это не один просмотр (так как 'visits' - это количество просмотров) и не одна карточка (так как 'age_segment' - это переменная, описываюшая читателя, а не карточку. Судя по тому, что в конце взятого часа виден резкий всплекс активности, а для половины от всего времени наблюдения вообще нет записей, в базу данных с какой-то переодичностью заносятся уже агрегированные данные: результат выполнения какой-то функции. Это предположение подтверждается тем, что в данных мы не найдём две такие записи, у которых совпадают age, topic, source и время, когда они были сделаны."
   ]
  },
  {
   "cell_type": "code",
   "execution_count": 13,
   "metadata": {},
   "outputs": [
    {
     "data": {
      "text/plain": [
       "0"
      ]
     },
     "execution_count": 13,
     "metadata": {},
     "output_type": "execute_result"
    }
   ],
   "source": [
    "dash_visits.duplicated(subset = ['item_topic', 'source_topic', 'age_segment', 'dt']).sum()"
   ]
  },
  {
   "cell_type": "markdown",
   "metadata": {},
   "source": [
    "Поэтому в детализации до минут (на которой настояли при согласовании макета) может не быть никакого смысла. Если в базу заносятся аггрегированные данные за час, то в дашборде нужна почасовая детализация. \n",
    "- С нормализованной stacked area chart (второй график) удобно следить за постепенным и взаимным изменением значений на временном ряду (когда изменения взаимосвязаны). При этом желательно, чтобы выполнялись несколько условий: во-первых, должно быть заранее известно, за какими значениями следить (потому что график \"шумный\" - любое колебание в одном значении двигает вверх/вниз весь график, и если не знать, куда смотреть, то ничего не будет понятно), а во-вторых, когда имеется достаточный промежуток времени, чтобы проследить за трендом (менеджерам виднее, но я бы начинал от одной недели). Для текущих целей больше подошёл бы гантельный график (dumbbell chart) с нормализованными значениями - долями каждой темы от общего числа просмотров - за выбранный промежуток времени.\n",
    "- Для сравнения тем по охвату аудитории отлично подходит круговая диаграмма. А тепловая таблица отлично иллюстрирует, какие сочетания тем и источников наиболее популярны, какие категории подобраны удачно и встречаются во многих сочетаниях, а какие - неудачно. \n",
    "- Tableau быстрее реагирует на фильтры, а dash даёт больше возможностей в вёрстке и в графиках. В этом проекте много фильтров и несложные, стандартные вычисления, поэтому лучше выбрать Tableau."
   ]
  }
 ],
 "metadata": {
  "kernelspec": {
   "display_name": "Python 3",
   "language": "python",
   "name": "python3"
  },
  "language_info": {
   "codemirror_mode": {
    "name": "ipython",
    "version": 3
   },
   "file_extension": ".py",
   "mimetype": "text/x-python",
   "name": "python",
   "nbconvert_exporter": "python",
   "pygments_lexer": "ipython3",
   "version": "3.6.12"
  }
 },
 "nbformat": 4,
 "nbformat_minor": 4
}
